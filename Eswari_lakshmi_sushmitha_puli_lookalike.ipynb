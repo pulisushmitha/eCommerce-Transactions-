{
 "cells": [
  {
   "cell_type": "code",
   "execution_count": null,
   "metadata": {
    "colab": {
     "base_uri": "https://localhost:8080/"
    },
    "id": "gnr0PIZcmrb7",
    "outputId": "45aa1385-a36a-4c40-e108-88e454c3449c"
   },
   "outputs": [
    {
     "name": "stdout",
     "output_type": "stream",
     "text": [
      "  CustomerID        CustomerName         Region  SignupDate\n",
      "0      C0001    Lawrence Carroll  South America  2022-07-10\n",
      "1      C0002      Elizabeth Lutz           Asia  2022-02-13\n",
      "2      C0003      Michael Rivera  South America  2024-03-07\n",
      "3      C0004  Kathleen Rodriguez  South America  2022-10-09\n",
      "4      C0005         Laura Weber           Asia  2022-08-15\n",
      "  ProductID              ProductName     Category   Price\n",
      "0      P001     ActiveWear Biography        Books  169.30\n",
      "1      P002    ActiveWear Smartwatch  Electronics  346.30\n",
      "2      P003  ComfortLiving Biography        Books   44.12\n",
      "3      P004            BookWorld Rug   Home Decor   95.69\n",
      "4      P005          TechPro T-Shirt     Clothing  429.31\n",
      "  TransactionID CustomerID ProductID      TransactionDate  Quantity  \\\n",
      "0        T00001      C0199      P067  2024-08-25 12:38:23         1   \n",
      "1        T00112      C0146      P067  2024-05-27 22:23:54         1   \n",
      "2        T00166      C0127      P067  2024-04-25 07:38:55         1   \n",
      "3        T00272      C0087      P067  2024-03-26 22:55:37         2   \n",
      "4        T00363      C0070      P067  2024-03-21 15:10:10         3   \n",
      "\n",
      "   TotalValue   Price  \n",
      "0      300.68  300.68  \n",
      "1      300.68  300.68  \n",
      "2      300.68  300.68  \n",
      "3      601.36  300.68  \n",
      "4      902.04  300.68  \n",
      "Lookalike results saved to 'ESWARI_LAKSHMI_SUSHMITHA_PULI_Lookalike.csv'.\n",
      "  CustomerID SimilarCustomerID  SimilarityScore\n",
      "0      C0001             C0107         0.996419\n",
      "1      C0001             C0137         0.995703\n",
      "2      C0001             C0191         0.989775\n",
      "3      C0002             C0142         0.989278\n",
      "4      C0002             C0177         0.968959\n"
     ]
    }
   ],
   "source": [
    "import pandas as pd\n",
    "import numpy as np\n",
    "from sklearn.metrics.pairwise import cosine_similarity\n",
    "from sklearn.preprocessing import StandardScaler\n",
    "c = pd.read_csv(\"Customers.csv\")\n",
    "p = pd.read_csv(\"Products.csv\")\n",
    "t = pd.read_csv(\"Transactions.csv\")\n",
    "\n",
    "print(c.head())\n",
    "print(p.head())\n",
    "print(t.head())\n",
    "t = t.merge(p, on='ProductID', how='left')\n",
    "t = t.merge(c, on='CustomerID', how='left')\n",
    "\n",
    "customer_summary = t.groupby('CustomerID').agg({\n",
    "    'TotalValue': 'sum',                \n",
    "    'TransactionID': 'count',          \n",
    "    'ProductID': 'nunique',          \n",
    "    'Quantity': 'sum'                  \n",
    "}).reset_index()\n",
    "\n",
    "\n",
    "customer_summary = customer_summary.merge(c[['CustomerID', 'Region']], on='CustomerID', how='left')\n",
    "customer_summary = pd.get_dummies(customer_summary, columns=['Region'], drop_first=True)\n",
    "scaler = StandardScaler()\n",
    "scaled_features = scaler.fit_transform(customer_summary.drop('CustomerID', axis=1))\n",
    "similarity_matrix = cosine_similarity(scaled_features)\n",
    "lookalike_results = {}\n",
    "for i, customer_id in enumerate(customer_summary['CustomerID']):\n",
    "    similarity_scores = similarity_matrix[i]\n",
    "    similar_c = sorted(\n",
    "        [(customer_summary['CustomerID'][j], score) for j, score in enumerate(similarity_scores) if j != i],\n",
    "        key=lambda x: x[1],\n",
    "        reverse=True\n",
    "    )\n",
    "    lookalike_results[customer_id] = similar_c[:3]\n",
    "lookalike_data = []\n",
    "for customer_id, lookalikes in lookalike_results.items():\n",
    "    for similar_customer, score in lookalikes:\n",
    "        lookalike_data.append([customer_id, similar_customer, score])\n",
    "\n",
    "lookalike_df = pd.DataFrame(lookalike_data, columns=['CustomerID', 'SimilarCustomerID', 'SimilarityScore'])\n",
    "lookalike_df_subset = lookalike_df[lookalike_df['CustomerID'].isin(c['CustomerID'][:20])]\n",
    "lookalike_df_subset.to_csv(\"ESWARI_LAKSHMI_SUSHMITHA_PULI_Lookalike.csv\", index=False)\n",
    "print(\"Lookalike results saved to 'ESWARI_LAKSHMI_SUSHMITHA_PULI_Lookalike.csv'.\")\n",
    "print(lookalike_df_subset.head())\n"
   ]
  }
 ],
 "metadata": {
  "colab": {
   "provenance": []
  },
  "kernelspec": {
   "display_name": "Python 3",
   "name": "python3"
  },
  "language_info": {
   "name": "python"
  }
 },
 "nbformat": 4,
 "nbformat_minor": 0
}
